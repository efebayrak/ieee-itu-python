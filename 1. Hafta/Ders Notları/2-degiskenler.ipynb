{
 "cells": [
  {
   "cell_type": "markdown",
   "metadata": {},
   "source": [
    "# <span style=\"color:#0152a1\"> İTÜ IEEE Python Eğitimi</span> \n",
    "## 1. Hafta\n"
   ]
  },
  {
   "cell_type": "markdown",
   "metadata": {},
   "source": [
    "##### Sayılar\n",
    "__Değişken Tanımlama__\n",
    "Pythonda değişken tanımlarken `=` operatörü kullanılır."
   ]
  },
  {
   "cell_type": "code",
   "execution_count": 1,
   "metadata": {},
   "outputs": [
    {
     "name": "stdout",
     "output_type": "stream",
     "text": [
      "5\n"
     ]
    }
   ],
   "source": [
    "a = 5\n",
    "\n",
    "print(a)"
   ]
  },
  {
   "cell_type": "markdown",
   "metadata": {},
   "source": [
    "Eşitliğin sol tarafındaki ifade değişkenimizin adını, sağ tarafındaki ise bu değişkenin değerini ifade eder. Bu atamayı yaptıktan sonra, bilgisayarımız 5 değerini önbelleğinde saklamaya başlar. Bundan sonra kodda `a` geçtiğinde tanır. \n",
    "Değişkenlerimizi isimlendirirken bazı konulara dikkat etmemiz gerekir:\n",
    "    -\n",
    "    \n",
    "Değişken  ba Bu şekilde farklı veri tiplerini saklayabilir, değiştirebilir ve kullanabiliriz. Bu veri tiplerinin ne olduğunda bakalım:\n",
    "\n",
    "__Sayı veri tipleri__\n",
    "\n",
    "Pythonda 3 farklı sayı veri tipi vardır. Bunlar: `integer` (tam sayı), `float` (ondalık sayı), `complex` (karmaşık sayı). Bu veri tiplerini birer değişkene atayacak olursak."
   ]
  },
  {
   "cell_type": "code",
   "execution_count": 2,
   "metadata": {},
   "outputs": [
    {
     "name": "stdout",
     "output_type": "stream",
     "text": [
      "<class 'int'>\n",
      "<class 'float'>\n",
      "<class 'complex'>\n"
     ]
    }
   ],
   "source": [
    "b = 5 # Integer\n",
    "c = - 7.8 # Float\n",
    "d = 1j # Complex\n",
    "\n",
    "print(type(b))\n",
    "print(type(c))\n",
    "print(type(d))"
   ]
  },
  {
   "cell_type": "markdown",
   "metadata": {},
   "source": [
    "Örnekte görüldüğü üzere, `type()` fonksiyonu bize içine aldığı değerin türünü verir. Sık kullandığımız bir araçtır.\n",
    "\n",
    "Kodda gördüğünüz `#` işareti yorum satırı eklemek için kullanılır. Bilgisayar kodu çalıştırırken buraları işleme almaz.\n",
    "\n",
    "Karmaşık sayılar, mühendislik ve matematik projeleri dışında pek kullanılmadığından sık karşımıza çıkmaz. Bu yüzden float ve int üzerine odaklanalım.\n",
    "\n",
    "Bir başka önemli konu değişkenleri birbirlerine çevirebilmektir. Bunu şu şekilde yapıyoruz:"
   ]
  },
  {
   "cell_type": "code",
   "execution_count": 3,
   "metadata": {},
   "outputs": [
    {
     "name": "stdout",
     "output_type": "stream",
     "text": [
      "Önce\n",
      "5\n",
      "7.8\n",
      "Sonra\n",
      "5.0\n",
      "7\n"
     ]
    }
   ],
   "source": [
    "sayi1 = 5 # Integer\n",
    "sayi2 = 7.8 # Float\n",
    "\n",
    "print(\"Önce\") # İlk değerlerin yazdırılması\n",
    "print(sayi1)\n",
    "print(sayi2)\n",
    "\n",
    "sayi1 = float(sayi1)\n",
    "sayi2 = int(sayi2)\n",
    "print(\"Sonra\") # Yeni değerlerin yazdırılması\n",
    "print(sayi1)\n",
    "print(sayi2)"
   ]
  },
  {
   "cell_type": "code",
   "execution_count": null,
   "metadata": {},
   "outputs": [],
   "source": [
    "G"
   ]
  }
 ],
 "metadata": {
  "kernelspec": {
   "display_name": "Python 3",
   "language": "python",
   "name": "python3"
  },
  "language_info": {
   "codemirror_mode": {
    "name": "ipython",
    "version": 3
   },
   "file_extension": ".py",
   "mimetype": "text/x-python",
   "name": "python",
   "nbconvert_exporter": "python",
   "pygments_lexer": "ipython3",
   "version": "3.9.13"
  },
  "orig_nbformat": 4
 },
 "nbformat": 4,
 "nbformat_minor": 2
}
