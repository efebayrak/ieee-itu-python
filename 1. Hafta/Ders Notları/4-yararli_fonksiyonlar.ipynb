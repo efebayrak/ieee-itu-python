{
 "cells": [
  {
   "attachments": {},
   "cell_type": "markdown",
   "metadata": {},
   "source": [
    "# <span style=\"color:#0152a1\"> İTÜ IEEE Python Eğitimi</span> \n",
    "## 1. Hafta\n"
   ]
  },
  {
   "attachments": {},
   "cell_type": "markdown",
   "metadata": {},
   "source": []
  },
  {
   "attachments": {},
   "cell_type": "markdown",
   "metadata": {},
   "source": [
    "##### Yararlı Fonksiyonlar\n",
    "__Fonksiyon__\n",
    "\n",
    "Fonksiyonlar, belirli görevleri gerçekleştirmek için oluşturulmuş, ve bir çok zaman bizim de oluşturduğumuz, kod bloklarıdır. Kod tekrarını engellerler ve işimizi çok kolaylaştırırlar.\n",
    "Bir fonksiyonu, yanındaki parantez işaretlerinden tanıyabiliriz:\n",
    "\n"
   ]
  },
  {
   "cell_type": "code",
   "execution_count": null,
   "metadata": {},
   "outputs": [],
   "source": [
    "compile()\n",
    "sum()\n",
    "range()"
   ]
  },
  {
   "attachments": {},
   "cell_type": "markdown",
   "metadata": {},
   "source": [
    "Birer fonksiyon örneğidir. Aynı şekilde az önce bahsettiğimiz `print()`, `str()`, `int()`, `bool()` ifadeleri de birer fonksiyondu. Parantez içerisine girdiğimiz ifadeleri birer _parametre_ olarak alıp  bir takım işler gerçekleştirirler.\n",
    "\n",
    "Fonksiyonlar yazılımda çok önemli bir yere sahiptir, onları nasıl tanımlandığına ve kullanıldığına ilerleyen haftalarda oldukça detaylıca değineceğiz. Şimdilik, python'da hazır gelen (built-in) ve sık sık kullandığımız fonksiyonlara göz atalım.\n",
    "\n",
    "\n",
    "__input()__\n",
    "\n",
    "Konsol uygulamalarında sık sık kullanacağımız bir fonksiyondur. Kullanıcıdan girdi almak için kullanılır. İçine parametre olarak bir _string_ ifadesi alır. Bu aldığımız girdiyi bir değişkene atayarak kullanabiliriz. "
   ]
  },
  {
   "cell_type": "code",
   "execution_count": 3,
   "metadata": {},
   "outputs": [
    {
     "name": "stdout",
     "output_type": "stream",
     "text": [
      "Ad Soyad:\n",
      "umuruğurer\n"
     ]
    }
   ],
   "source": [
    "ad = input(\"Adınızı Girin: \")\n",
    "soyad = input(\"Soyadınızı Girin: \")\n",
    "\n",
    "print(\"Ad Soyad:\")\n",
    "print(ad + \" \" + soyad) # Stringleri + operatörüyle birleştiriyoruz"
   ]
  },
  {
   "attachments": {},
   "cell_type": "markdown",
   "metadata": {},
   "source": [
    "Unutmayın ki konsola girdiğimiz değerler string türündedir. Yani bir sayı bile girseniz bilgisayar bunu bir text olarak tanıyacaktır. Bu yüzden aldığımız veriyi başka türde kullanacaksak bu türe çeviririz. (örneğin sayısal işlemler yapacaksak `int()` fonksiyonu.)\n",
    "\n",
    "__String Fonksiyonları__\n",
    "\n",
    "String ifadeler ile çalışırken çoğu zamanlar onları düzenlemek ve kontrol etmek isteriz. Bu konuda python'ın built-in fonksiyonları bize çok yardımcı olur.\n",
    "\n",
    "- `.upper()` - Tüm harfleri büyütür\n",
    "- `.lower()` - Tüm harfleri küçültür\n",
    "- `.replace()` - String içerisinden bir ifadeyi başka bir text ile değiştirir\n",
    "- `.split()` - String ifadeyi listeye çevirir _(Listeler kısmında kafanıza tam oturacak merak etmeyin)_\n",
    "- `.capitalize()` - İlk harfi büyütür.\n",
    "- `.count()` - Girilen parametrenin string içerisinde kaç kez geçtiğini döndürür.\n",
    "- `.startswith()` - String girilen parametre ile başlayıp başlamadığını döndürür (True - False)\n",
    "- `.format()` - String içerisine dışardan ifadeler sokmamızı sağlar\n",
    "- `.isdecimal()` - String'in tamamen sayılardan  oluşup oluşmadığını döndürür (True - False)\n",
    "- `.isalpha()` - String'in tamamen harflerden oluşup oluşmadığını döndürür (True - False)\n",
    "- `.isalnum()` - String'in tamamen sayılardan ve harflerden oluşup oluşmadığını döndürür (True - False)\n",
    "\n",
    "Bunların dışında, stringler için bir sürü fonksiyon vardır, daha sık karşılaşacaklarınızı yukarıda listeledik. Bunları elbette ezberlemiyoruz, bir kısmını kullandıkça hatırlıyor, bir çoğunu da gerektikçe araştırıyoruz. (Daha fazla string methodlarına bakmak isterseniz [buraya](https://www.w3schools.com/python/python_strings_methods.asp) tıklayabilirsiniz.)\n",
    "\n",
    "Biraz örneklere bakacak olursak:"
   ]
  },
  {
   "cell_type": "code",
   "execution_count": 4,
   "metadata": {},
   "outputs": [
    {
     "name": "stdout",
     "output_type": "stream",
     "text": [
      "MERHABA DÜNYA\n",
      "merhaba dünya\n",
      "merhaba IEEE\n",
      "Merhaba dünya\n",
      "True\n"
     ]
    }
   ],
   "source": [
    "txt = \"merhaba DÜNYA\"\n",
    "\n",
    "print(txt.upper())\n",
    "print(txt.lower())\n",
    "print(txt.replace(\"DÜNYA\", \"IEEE\")) # Evet fonksiyonlar birden fazla parametre alabilir.\n",
    "print(txt.capitalize())\n",
    "print(txt.startswith(\"merh\"))\n"
   ]
  },
  {
   "attachments": {},
   "cell_type": "markdown",
   "metadata": {},
   "source": [
    "_Neden buradaki fonksyonlar `.`'lı bir gösterime sahip `str()` gibi kullanmıyoruz diye düşünenleriniz olmuştur. Aslında bunlar string objesine ait birer metod. Metodlar objelerin altında tanımlanmış birer fonksiyondur. Kafanız karışmasın, Nesne tabanlı programlama kısmına geçtiğimizde uzun uzun üzerinde duracağız. Şimdilik projelerimizde kullanmaya devam edelim_\n",
    "\n",
    "__Formatting__\n",
    "\n",
    "Az önce `format()` fonksiyonunu gördük, string içerisine dışardan veri girişine \"formatting\" deniyor. Hiçbir zaman statik verilerle çalışmadığımız, sürekli girdilerimiz olduğu için sık sık kullanırız. Bunu farklı şekillerde nasıl yapacağımıza bakalım:"
   ]
  },
  {
   "cell_type": "code",
   "execution_count": 8,
   "metadata": {},
   "outputs": [
    {
     "name": "stdout",
     "output_type": "stream",
     "text": [
      "IEEE içerisinde 6 komite ve 5 ekip bulunur.\n",
      "IEEE içerisinde 6 komite ve 5 ekip bulunur.\n",
      "IEEE içerisinde 6 komite ve 5 ekip bulunur.\n",
      "IEEE içerisinde 6 komite ve 5 ekip bulunur.\n"
     ]
    }
   ],
   "source": [
    "sayi1 = 6\n",
    "sayi2 = 5\n",
    "\n",
    "print(\"IEEE içerisinde {} komite ve {} ekip bulunur.\".format(sayi1, sayi2))\n",
    "print(\"IEEE içerisinde {0} komite ve {1} ekip bulunur.\".format(sayi1, sayi2))\n",
    "print(\"IEEE içerisinde {komite} komite ve {ekip} ekip bulunur.\".format(komite = sayi1, ekip = sayi2))\n",
    "print(f\"IEEE içerisinde {sayi1} komite ve {sayi2} ekip bulunur.\") "
   ]
  },
  {
   "attachments": {},
   "cell_type": "markdown",
   "metadata": {},
   "source": [
    "Gördüğünüz gibi farklı şekillerde formatting yapabiliyoruz ve aralarında hiçbir fark bulunmuyor. Bu sebeple genelde en son yöntemi kullanmanız daha kolay olur ~~*(Ben yıllardır sürekli onu kullandığımdan, diğer yöntemleri hatırlamayıp internetten baktım)*~~\n",
    "\n",
    "**round()**\n",
    "\n",
    "Adından da anlaşılacağı üzere, ondalık bir sayıyı yuvarlamamızı sağlıyor:"
   ]
  },
  {
   "cell_type": "code",
   "execution_count": 9,
   "metadata": {},
   "outputs": [
    {
     "name": "stdout",
     "output_type": "stream",
     "text": [
      "3\n",
      "3.1\n",
      "3.14\n"
     ]
    }
   ],
   "source": [
    "sayi = 3.1415 # float türünde bir sayı\n",
    "rounded = round(sayi)\n",
    "print(rounded)\n",
    "print(round(sayi, 1))\n",
    "print(round(sayi, 2))"
   ]
  }
 ],
 "metadata": {
  "kernelspec": {
   "display_name": "Python 3",
   "language": "python",
   "name": "python3"
  },
  "language_info": {
   "codemirror_mode": {
    "name": "ipython",
    "version": 3
   },
   "file_extension": ".py",
   "mimetype": "text/x-python",
   "name": "python",
   "nbconvert_exporter": "python",
   "pygments_lexer": "ipython3",
   "version": "3.11.4"
  },
  "orig_nbformat": 4
 },
 "nbformat": 4,
 "nbformat_minor": 2
}
